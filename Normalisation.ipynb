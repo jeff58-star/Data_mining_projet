{
 "cells": [
  {
   "cell_type": "code",
   "execution_count": 4,
   "id": "bdf0d816",
   "metadata": {},
   "outputs": [],
   "source": [
    "from sklearn.preprocessing import MinMaxScaler\n",
    "from sklearn.datasets import load_iris\n"
   ]
  },
  {
   "cell_type": "code",
   "execution_count": 47,
   "id": "fa49b9df",
   "metadata": {},
   "outputs": [],
   "source": [
    "#recuperatio_dataset\n",
    "base=load_iris()\n",
    "X=base.data\n",
    "Y=base.target"
   ]
  },
  {
   "cell_type": "code",
   "execution_count": 48,
   "id": "fafd74a2",
   "metadata": {},
   "outputs": [],
   "source": [
    "#visualisatio_des_data\n",
    "import matplotlib.pyplot as plt\n",
    "#plt.scatter(X[:,2],X[:,3])"
   ]
  },
  {
   "cell_type": "code",
   "execution_count": 49,
   "id": "6953c92f",
   "metadata": {},
   "outputs": [],
   "source": [
    "#visualisatio_des_data_echelle\n",
    "scaler=MinMaxScaler()\n",
    "X_trans=scaler.fit_transform(X)\n",
    "#plt.scatter(X_trans[:,2],X_trans[:,3])\n",
    "#print(X_trans)\n",
    "\n"
   ]
  },
  {
   "cell_type": "code",
   "execution_count": 17,
   "id": "e8cf0b83",
   "metadata": {},
   "outputs": [
    {
     "name": "stdout",
     "output_type": "stream",
     "text": [
      "0.06883657369709498\n"
     ]
    }
   ],
   "source": [
    "import numpy as np\n",
    "print(np.var(X_trans))"
   ]
  },
  {
   "cell_type": "code",
   "execution_count": 18,
   "id": "b7e7ca7a",
   "metadata": {},
   "outputs": [],
   "source": [
    "from sklearn.preprocessing import StandardScaler"
   ]
  },
  {
   "cell_type": "code",
   "execution_count": null,
   "id": "ff7a224e",
   "metadata": {},
   "outputs": [],
   "source": [
    "from sklearn.preprocessing import StandardScaler\n",
    "#visualisatio_des_normalisations_standard\n",
    "scaler1= StandardScaler()\n",
    "X_trans1=scaler1.fit_transform(X)"
   ]
  },
  {
   "cell_type": "code",
   "execution_count": 50,
   "id": "fb355b71",
   "metadata": {},
   "outputs": [],
   "source": [
    "#visualisatio_des_normalisations_standard\n",
    "scaler1= StandardScaler()\n",
    "X_trans1=scaler1.fit_transform(X)\n",
    "#print(X_trans1)"
   ]
  },
  {
   "cell_type": "code",
   "execution_count": 20,
   "id": "45ce64c3",
   "metadata": {},
   "outputs": [
    {
     "name": "stdout",
     "output_type": "stream",
     "text": [
      "1.0\n"
     ]
    }
   ],
   "source": [
    "import numpy as np\n",
    "print(np.var(X_trans1))"
   ]
  },
  {
   "cell_type": "code",
   "execution_count": 21,
   "id": "3b955620",
   "metadata": {},
   "outputs": [],
   "source": [
    "from sklearn.preprocessing import RobustScaler"
   ]
  },
  {
   "cell_type": "code",
   "execution_count": 78,
   "id": "4888edf3",
   "metadata": {},
   "outputs": [
    {
     "name": "stdout",
     "output_type": "stream",
     "text": [
      "[[-0.53846154  1.         -0.84285714 -0.73333333]\n",
      " [-0.69230769  0.         -0.84285714 -0.73333333]\n",
      " [-0.84615385  0.4        -0.87142857 -0.73333333]\n",
      " [-0.92307692  0.2        -0.81428571 -0.73333333]\n",
      " [-0.61538462  1.2        -0.84285714 -0.73333333]\n",
      " [-0.30769231  1.8        -0.75714286 -0.6       ]\n",
      " [-0.92307692  0.8        -0.84285714 -0.66666667]\n",
      " [-0.61538462  0.8        -0.81428571 -0.73333333]\n",
      " [-1.07692308 -0.2        -0.84285714 -0.73333333]\n",
      " [-0.69230769  0.2        -0.81428571 -0.8       ]\n",
      " [-0.30769231  1.4        -0.81428571 -0.73333333]\n",
      " [-0.76923077  0.8        -0.78571429 -0.73333333]\n",
      " [-0.76923077  0.         -0.84285714 -0.8       ]\n",
      " [-1.15384615  0.         -0.92857143 -0.8       ]\n",
      " [ 0.          2.         -0.9        -0.73333333]\n",
      " [-0.07692308  2.8        -0.81428571 -0.6       ]\n",
      " [-0.30769231  1.8        -0.87142857 -0.6       ]\n",
      " [-0.53846154  1.         -0.84285714 -0.66666667]\n",
      " [-0.07692308  1.6        -0.75714286 -0.66666667]\n",
      " [-0.53846154  1.6        -0.81428571 -0.66666667]\n",
      " [-0.30769231  0.8        -0.75714286 -0.73333333]\n",
      " [-0.53846154  1.4        -0.81428571 -0.6       ]\n",
      " [-0.92307692  1.2        -0.95714286 -0.73333333]\n",
      " [-0.53846154  0.6        -0.75714286 -0.53333333]\n",
      " [-0.76923077  0.8        -0.7        -0.73333333]\n",
      " [-0.61538462  0.         -0.78571429 -0.73333333]\n",
      " [-0.61538462  0.8        -0.78571429 -0.6       ]\n",
      " [-0.46153846  1.         -0.81428571 -0.73333333]\n",
      " [-0.46153846  0.8        -0.84285714 -0.73333333]\n",
      " [-0.84615385  0.4        -0.78571429 -0.73333333]\n",
      " [-0.76923077  0.2        -0.78571429 -0.73333333]\n",
      " [-0.30769231  0.8        -0.81428571 -0.6       ]\n",
      " [-0.46153846  2.2        -0.81428571 -0.8       ]\n",
      " [-0.23076923  2.4        -0.84285714 -0.73333333]\n",
      " [-0.69230769  0.2        -0.81428571 -0.73333333]\n",
      " [-0.61538462  0.4        -0.9        -0.73333333]\n",
      " [-0.23076923  1.         -0.87142857 -0.73333333]\n",
      " [-0.69230769  1.2        -0.84285714 -0.8       ]\n",
      " [-1.07692308  0.         -0.87142857 -0.73333333]\n",
      " [-0.53846154  0.8        -0.81428571 -0.73333333]\n",
      " [-0.61538462  1.         -0.87142857 -0.66666667]\n",
      " [-1.         -1.4        -0.87142857 -0.66666667]\n",
      " [-1.07692308  0.4        -0.87142857 -0.73333333]\n",
      " [-0.61538462  1.         -0.78571429 -0.46666667]\n",
      " [-0.53846154  1.6        -0.7        -0.6       ]\n",
      " [-0.76923077  0.         -0.84285714 -0.66666667]\n",
      " [-0.53846154  1.6        -0.78571429 -0.73333333]\n",
      " [-0.92307692  0.4        -0.84285714 -0.73333333]\n",
      " [-0.38461538  1.4        -0.81428571 -0.73333333]\n",
      " [-0.61538462  0.6        -0.84285714 -0.73333333]\n",
      " [ 0.92307692  0.4         0.1         0.06666667]\n",
      " [ 0.46153846  0.4         0.04285714  0.13333333]\n",
      " [ 0.84615385  0.2         0.15714286  0.13333333]\n",
      " [-0.23076923 -1.4        -0.1         0.        ]\n",
      " [ 0.53846154 -0.4         0.07142857  0.13333333]\n",
      " [-0.07692308 -0.4         0.04285714  0.        ]\n",
      " [ 0.38461538  0.6         0.1         0.2       ]\n",
      " [-0.69230769 -1.2        -0.3        -0.2       ]\n",
      " [ 0.61538462 -0.2         0.07142857  0.        ]\n",
      " [-0.46153846 -0.6        -0.12857143  0.06666667]\n",
      " [-0.61538462 -2.         -0.24285714 -0.2       ]\n",
      " [ 0.07692308  0.         -0.04285714  0.13333333]\n",
      " [ 0.15384615 -1.6        -0.1        -0.2       ]\n",
      " [ 0.23076923 -0.2         0.1         0.06666667]\n",
      " [-0.15384615 -0.2        -0.21428571  0.        ]\n",
      " [ 0.69230769  0.2         0.01428571  0.06666667]\n",
      " [-0.15384615  0.          0.04285714  0.13333333]\n",
      " [ 0.         -0.6        -0.07142857 -0.2       ]\n",
      " [ 0.30769231 -1.6         0.04285714  0.13333333]\n",
      " [-0.15384615 -1.         -0.12857143 -0.13333333]\n",
      " [ 0.07692308  0.4         0.12857143  0.33333333]\n",
      " [ 0.23076923 -0.4        -0.1         0.        ]\n",
      " [ 0.38461538 -1.          0.15714286  0.13333333]\n",
      " [ 0.23076923 -0.4         0.1        -0.06666667]\n",
      " [ 0.46153846 -0.2        -0.01428571  0.        ]\n",
      " [ 0.61538462  0.          0.01428571  0.06666667]\n",
      " [ 0.76923077 -0.4         0.12857143  0.06666667]\n",
      " [ 0.69230769  0.          0.18571429  0.26666667]\n",
      " [ 0.15384615 -0.2         0.04285714  0.13333333]\n",
      " [-0.07692308 -0.8        -0.24285714 -0.2       ]\n",
      " [-0.23076923 -1.2        -0.15714286 -0.13333333]\n",
      " [-0.23076923 -1.2        -0.18571429 -0.2       ]\n",
      " [ 0.         -0.6        -0.12857143 -0.06666667]\n",
      " [ 0.15384615 -0.6         0.21428571  0.2       ]\n",
      " [-0.30769231  0.          0.04285714  0.13333333]\n",
      " [ 0.15384615  0.8         0.04285714  0.2       ]\n",
      " [ 0.69230769  0.2         0.1         0.13333333]\n",
      " [ 0.38461538 -1.4         0.01428571  0.        ]\n",
      " [-0.15384615  0.         -0.07142857  0.        ]\n",
      " [-0.23076923 -1.         -0.1         0.        ]\n",
      " [-0.23076923 -0.8         0.01428571 -0.06666667]\n",
      " [ 0.23076923  0.          0.07142857  0.06666667]\n",
      " [ 0.         -0.8        -0.1        -0.06666667]\n",
      " [-0.61538462 -1.4        -0.3        -0.2       ]\n",
      " [-0.15384615 -0.6        -0.04285714  0.        ]\n",
      " [-0.07692308  0.         -0.04285714 -0.06666667]\n",
      " [-0.07692308 -0.2        -0.04285714  0.        ]\n",
      " [ 0.30769231 -0.2        -0.01428571  0.        ]\n",
      " [-0.53846154 -1.         -0.38571429 -0.13333333]\n",
      " [-0.07692308 -0.4        -0.07142857  0.        ]\n",
      " [ 0.38461538  0.6         0.47142857  0.8       ]\n",
      " [ 0.         -0.6         0.21428571  0.4       ]\n",
      " [ 1.          0.          0.44285714  0.53333333]\n",
      " [ 0.38461538 -0.2         0.35714286  0.33333333]\n",
      " [ 0.53846154  0.          0.41428571  0.6       ]\n",
      " [ 1.38461538  0.          0.64285714  0.53333333]\n",
      " [-0.69230769 -1.          0.04285714  0.26666667]\n",
      " [ 1.15384615 -0.2         0.55714286  0.33333333]\n",
      " [ 0.69230769 -1.          0.41428571  0.33333333]\n",
      " [ 1.07692308  1.2         0.5         0.8       ]\n",
      " [ 0.53846154  0.4         0.21428571  0.46666667]\n",
      " [ 0.46153846 -0.6         0.27142857  0.4       ]\n",
      " [ 0.76923077  0.          0.32857143  0.53333333]\n",
      " [-0.07692308 -1.          0.18571429  0.46666667]\n",
      " [ 0.         -0.4         0.21428571  0.73333333]\n",
      " [ 0.46153846  0.4         0.27142857  0.66666667]\n",
      " [ 0.53846154  0.          0.32857143  0.33333333]\n",
      " [ 1.46153846  1.6         0.67142857  0.6       ]\n",
      " [ 1.46153846 -0.8         0.72857143  0.66666667]\n",
      " [ 0.15384615 -1.6         0.18571429  0.13333333]\n",
      " [ 0.84615385  0.4         0.38571429  0.66666667]\n",
      " [-0.15384615 -0.4         0.15714286  0.46666667]\n",
      " [ 1.46153846 -0.4         0.67142857  0.46666667]\n",
      " [ 0.38461538 -0.6         0.15714286  0.33333333]\n",
      " [ 0.69230769  0.6         0.38571429  0.53333333]\n",
      " [ 1.07692308  0.4         0.47142857  0.33333333]\n",
      " [ 0.30769231 -0.4         0.12857143  0.33333333]\n",
      " [ 0.23076923  0.          0.15714286  0.33333333]\n",
      " [ 0.46153846 -0.4         0.35714286  0.53333333]\n",
      " [ 1.07692308  0.          0.41428571  0.2       ]\n",
      " [ 1.23076923 -0.4         0.5         0.4       ]\n",
      " [ 1.61538462  1.6         0.58571429  0.46666667]\n",
      " [ 0.46153846 -0.4         0.35714286  0.6       ]\n",
      " [ 0.38461538 -0.4         0.21428571  0.13333333]\n",
      " [ 0.23076923 -0.8         0.35714286  0.06666667]\n",
      " [ 1.46153846  0.          0.5         0.66666667]\n",
      " [ 0.38461538  0.8         0.35714286  0.73333333]\n",
      " [ 0.46153846  0.2         0.32857143  0.33333333]\n",
      " [ 0.15384615  0.          0.12857143  0.33333333]\n",
      " [ 0.84615385  0.2         0.3         0.53333333]\n",
      " [ 0.69230769  0.2         0.35714286  0.73333333]\n",
      " [ 0.84615385  0.2         0.21428571  0.66666667]\n",
      " [ 0.         -0.6         0.21428571  0.4       ]\n",
      " [ 0.76923077  0.4         0.44285714  0.66666667]\n",
      " [ 0.69230769  0.6         0.38571429  0.8       ]\n",
      " [ 0.69230769  0.          0.24285714  0.66666667]\n",
      " [ 0.38461538 -1.          0.18571429  0.4       ]\n",
      " [ 0.53846154  0.          0.24285714  0.46666667]\n",
      " [ 0.30769231  0.8         0.3         0.66666667]\n",
      " [ 0.07692308  0.          0.21428571  0.33333333]]\n"
     ]
    }
   ],
   "source": [
    "#visualisatio_des_Normalisations robustes\n",
    "from sklearn.preprocessing import RobustScaler\n",
    "scaler2= RobustScaler()\n",
    "X_trans2=scaler2.fit_transform(X)\n",
    "print(X_trans2)"
   ]
  },
  {
   "cell_type": "code",
   "execution_count": 23,
   "id": "89d8ce5a",
   "metadata": {},
   "outputs": [
    {
     "name": "stdout",
     "output_type": "stream",
     "text": [
      "0.4281264074685319\n"
     ]
    }
   ],
   "source": [
    "import numpy as np\n",
    "print(np.var(X_trans2))"
   ]
  },
  {
   "cell_type": "code",
   "execution_count": null,
   "id": "0dd73f82",
   "metadata": {},
   "outputs": [],
   "source": [
    "scaler=MinMaxScaler()\n",
    "X_trans=scaler.fit_transform(X)\n",
    "print(X_trans)"
   ]
  },
  {
   "cell_type": "code",
   "execution_count": 71,
   "id": "5bf34af2",
   "metadata": {},
   "outputs": [],
   "source": [
    "from sklearn.preprocessing import PowerTransformer"
   ]
  },
  {
   "cell_type": "code",
   "execution_count": 53,
   "id": "25392fdf",
   "metadata": {},
   "outputs": [],
   "source": [
    "#visualisatio_des_normalisation transformpower\n",
    "from sklearn.preprocessing import PowerTransformer\n",
    "scaler4= PowerTransformer()\n",
    "X_trans4=PowerTransformer().fit_transform(X)\n",
    "#print(X_trans4)\n",
    "#plt.scatter(X_trans4[:,2],X_trans4[:,3])"
   ]
  },
  {
   "cell_type": "code",
   "execution_count": 39,
   "id": "abbffe5a",
   "metadata": {},
   "outputs": [
    {
     "name": "stdout",
     "output_type": "stream",
     "text": [
      "1.0000000000000002\n"
     ]
    }
   ],
   "source": [
    "import numpy as np\n",
    "print(np.var(X_trans4))"
   ]
  },
  {
   "cell_type": "code",
   "execution_count": 65,
   "id": "92f36684",
   "metadata": {},
   "outputs": [],
   "source": [
    "#Normalisation au vecteur unitaire\n",
    "import numpy as np\n",
    "X_trans5= X / np.sqrt(np.sum(X**2))\n",
    "#print(X_trans5)\n",
    "#plt.scatter(X_trans5[:,2],X_trans5[:,3])"
   ]
  },
  {
   "cell_type": "code",
   "execution_count": 46,
   "id": "befa497b",
   "metadata": {},
   "outputs": [
    {
     "name": "stdout",
     "output_type": "stream",
     "text": [
      "0.0004084220541221272\n"
     ]
    }
   ],
   "source": [
    "import numpy as np\n",
    "print(np.var(X_trans5))"
   ]
  },
  {
   "cell_type": "code",
   "execution_count": 66,
   "id": "2eb3c09b",
   "metadata": {},
   "outputs": [],
   "source": [
    "from sklearn import preprocessing\n",
    "X_trans3 = preprocessing.normalize(X)\n",
    "#print(X_trans3)\n",
    "\n",
    "#scaled_df = pd.DataFrame(d, columns=names)\n",
    "#scaled_df.head()"
   ]
  },
  {
   "cell_type": "code",
   "execution_count": 67,
   "id": "2b7dcf04",
   "metadata": {},
   "outputs": [
    {
     "name": "stdout",
     "output_type": "stream",
     "text": [
      "0.058061926380652336\n"
     ]
    }
   ],
   "source": [
    "import numpy as np\n",
    "print(np.var(X_trans3))"
   ]
  },
  {
   "cell_type": "code",
   "execution_count": 72,
   "id": "6e5711b9",
   "metadata": {},
   "outputs": [],
   "source": [
    "from sklearn.preprocessing import MaxAbsScaler"
   ]
  },
  {
   "cell_type": "code",
   "execution_count": 80,
   "id": "f94bdb6a",
   "metadata": {},
   "outputs": [],
   "source": [
    "#visualisatio_des_Normalisations MaxAbsScaler ou Robuste\n",
    "from sklearn.preprocessing import MaxAbsScaler\n",
    "scaler6= MaxAbsScaler()\n",
    "X_trans6=scaler2.fit_transform(X)\n",
    "#print(X_trans6)"
   ]
  },
  {
   "cell_type": "code",
   "execution_count": 75,
   "id": "2247194d",
   "metadata": {},
   "outputs": [
    {
     "name": "stdout",
     "output_type": "stream",
     "text": [
      "0.4281264074685319\n"
     ]
    }
   ],
   "source": [
    "import numpy as np\n",
    "print(np.var(X_trans6))"
   ]
  },
  {
   "cell_type": "code",
   "execution_count": null,
   "id": "20a414f0",
   "metadata": {},
   "outputs": [],
   "source": []
  }
 ],
 "metadata": {
  "kernelspec": {
   "display_name": "Python 3 (ipykernel)",
   "language": "python",
   "name": "python3"
  },
  "language_info": {
   "codemirror_mode": {
    "name": "ipython",
    "version": 3
   },
   "file_extension": ".py",
   "mimetype": "text/x-python",
   "name": "python",
   "nbconvert_exporter": "python",
   "pygments_lexer": "ipython3",
   "version": "3.9.12"
  }
 },
 "nbformat": 4,
 "nbformat_minor": 5
}
